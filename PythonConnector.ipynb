{
 "cells": [
  {
   "cell_type": "markdown",
   "metadata": {},
   "source": [
    "# Connector Python for BigQuery\n",
    "The aim of this project is to connect Zendesk data to BigQuery. "
   ]
  },
  {
   "cell_type": "markdown",
   "metadata": {},
   "source": [
    "### Documentations links"
   ]
  },
  {
   "cell_type": "markdown",
   "metadata": {},
   "source": [
    "For Zendesk Cred format and api docs: https://pypi.org/project/zenpy/ <br>\n",
    "For GBQ Authentication: https://googleapis.dev/python/pandas-gbq/latest/howto/authentication.html"
   ]
  },
  {
   "cell_type": "markdown",
   "metadata": {},
   "source": [
    "### Libraries import"
   ]
  },
  {
   "cell_type": "code",
   "execution_count": 66,
   "metadata": {},
   "outputs": [],
   "source": [
    "from zenpy import Zenpy                         # Zenpy documentation : http://docs.facetoe.com.au/zenpy.html#installation\n",
    "from zenpy.lib.api_objects import Ticket\n",
    "import pandas as pd                             # pandas documentation : https://pandas.pydata.org/docs/\n",
    "import pandas_gbq                               # pandas_gbq documentation: https://pypi.org/project/pandas-gbq/\n",
    "import json"
   ]
  },
  {
   "cell_type": "markdown",
   "metadata": {},
   "source": [
    "### Functions"
   ]
  },
  {
   "cell_type": "markdown",
   "metadata": {},
   "source": [
    "##### Create Zenpy instance"
   ]
  },
  {
   "cell_type": "code",
   "execution_count": 67,
   "metadata": {},
   "outputs": [],
   "source": [
    "def zenpyInstance(zendesk_crendentials):\n",
    "    zenpy_client = Zenpy(zendesk_crendentials)\n",
    "    return zenpy_client"
   ]
  },
  {
   "cell_type": "markdown",
   "metadata": {},
   "source": [
    "##### Get all tickets"
   ]
  },
  {
   "cell_type": "code",
   "execution_count": 68,
   "metadata": {},
   "outputs": [],
   "source": [
    "def fetchTickets(zenpy_client):\n",
    "    raw_ticket_data = zenpy_client.search_export(type='ticket')\n",
    "    return raw_ticket_data"
   ]
  },
  {
   "cell_type": "markdown",
   "metadata": {},
   "source": [
    "##### Data convertion"
   ]
  },
  {
   "cell_type": "code",
   "execution_count": 69,
   "metadata": {},
   "outputs": [],
   "source": [
    "def conersionDict(raw_ticket_data):\n",
    "    # Convert Raw Ticket JSON to Python Dict\n",
    "    ticket_dict = raw_ticket_data.to_dict()\n",
    "    return ticket_dict"
   ]
  },
  {
   "cell_type": "code",
   "execution_count": 70,
   "metadata": {},
   "outputs": [],
   "source": [
    "def conversionDF(ticket_dict):\n",
    "    # Convert Python Dict to Pandas Dataframe\n",
    "    ticket_df = pd.DataFrame(ticket_dict)\n",
    "    return ticket_df"
   ]
  },
  {
   "cell_type": "markdown",
   "metadata": {},
   "source": [
    "##### Setup BigQuery"
   ]
  },
  {
   "cell_type": "code",
   "execution_count": 71,
   "metadata": {},
   "outputs": [],
   "source": [
    "def setupGBQ(gbq_credentials, gbq_projectId):\n",
    "    pandas_gbq.context.credentials = gbq_credentials\n",
    "    pandas_gbq.context.project = gbq_projectId"
   ]
  },
  {
   "cell_type": "markdown",
   "metadata": {},
   "source": [
    "##### Load data in Big Query"
   ]
  },
  {
   "cell_type": "code",
   "execution_count": 72,
   "metadata": {},
   "outputs": [],
   "source": [
    "def loadData(ticket_df, gbq_tableId, gbq_projectId):\n",
    "    #Overwrite existing table with ticket_df\n",
    "    pandas_gbq.to_gbq(ticket_df, gbq_tableId, project_id=gbq_projectId, if_exists='replace')"
   ]
  },
  {
   "cell_type": "markdown",
   "metadata": {},
   "source": [
    "### Main program"
   ]
  },
  {
   "cell_type": "code",
   "execution_count": 73,
   "metadata": {},
   "outputs": [
    {
     "ename": "ZenpyException",
     "evalue": "password, token or oauth_token are required! {'self': <zenpy.Zenpy object at 0x0000022218FD1840>, 'email': None, 'token': None, 'oath_token': None, 'password': None, 'session': <requests.sessions.Session object at 0x0000022218FD0250>, 'anonymous': False}",
     "output_type": "error",
     "traceback": [
      "\u001b[1;31m---------------------------------------------------------------------------\u001b[0m",
      "\u001b[1;31mZenpyException\u001b[0m                            Traceback (most recent call last)",
      "Cell \u001b[1;32mIn[73], line 12\u001b[0m\n\u001b[0;32m      9\u001b[0m file_json_output_filename \u001b[38;5;241m=\u001b[39m \u001b[38;5;124m\"\u001b[39m\u001b[38;5;124mxyz.json\u001b[39m\u001b[38;5;124m\"\u001b[39m\n\u001b[0;32m     11\u001b[0m \u001b[38;5;66;03m# Functions call\u001b[39;00m\n\u001b[1;32m---> 12\u001b[0m zenpy_client \u001b[38;5;241m=\u001b[39m \u001b[43mzenpyInstance\u001b[49m\u001b[43m(\u001b[49m\u001b[43mzendesk_crendentials\u001b[49m\u001b[43m)\u001b[49m\n\u001b[0;32m     14\u001b[0m \u001b[38;5;66;03m# Fetch tickets from Zendesk\u001b[39;00m\n\u001b[0;32m     15\u001b[0m ticket_dict \u001b[38;5;241m=\u001b[39m fetchTickets(zenpy_client)\n",
      "Cell \u001b[1;32mIn[67], line 2\u001b[0m, in \u001b[0;36mzenpyInstance\u001b[1;34m(zendesk_crendentials)\u001b[0m\n\u001b[0;32m      1\u001b[0m \u001b[38;5;28;01mdef\u001b[39;00m \u001b[38;5;21mzenpyInstance\u001b[39m(zendesk_crendentials):\n\u001b[1;32m----> 2\u001b[0m     zenpy_client \u001b[38;5;241m=\u001b[39m \u001b[43mZenpy\u001b[49m\u001b[43m(\u001b[49m\u001b[43mzendesk_crendentials\u001b[49m\u001b[43m)\u001b[49m\n\u001b[0;32m      3\u001b[0m     \u001b[38;5;28;01mreturn\u001b[39;00m zenpy_client\n",
      "File \u001b[1;32mc:\\Users\\Robin N\\AppData\\Local\\Programs\\Python\\Python310\\lib\\site-packages\\zenpy\\__init__.py:111\u001b[0m, in \u001b[0;36mZenpy.__init__\u001b[1;34m(self, domain, subdomain, email, token, oauth_token, password, session, anonymous, timeout, ratelimit_budget, proactive_ratelimit, proactive_ratelimit_request_interval, disable_cache)\u001b[0m\n\u001b[0;32m     71\u001b[0m \u001b[38;5;28;01mdef\u001b[39;00m \u001b[38;5;21m__init__\u001b[39m(\n\u001b[0;32m     72\u001b[0m     \u001b[38;5;28mself\u001b[39m,\n\u001b[0;32m     73\u001b[0m     domain\u001b[38;5;241m=\u001b[39m\u001b[38;5;124m\"\u001b[39m\u001b[38;5;124mzendesk.com\u001b[39m\u001b[38;5;124m\"\u001b[39m,\n\u001b[1;32m   (...)\u001b[0m\n\u001b[0;32m     85\u001b[0m     disable_cache\u001b[38;5;241m=\u001b[39m\u001b[38;5;28;01mFalse\u001b[39;00m,\n\u001b[0;32m     86\u001b[0m ):\n\u001b[0;32m     87\u001b[0m \u001b[38;5;250m    \u001b[39m\u001b[38;5;124;03m\"\"\"\u001b[39;00m\n\u001b[0;32m     88\u001b[0m \u001b[38;5;124;03m    Python Wrapper for the Zendesk API.\u001b[39;00m\n\u001b[0;32m     89\u001b[0m \n\u001b[1;32m   (...)\u001b[0m\n\u001b[0;32m    108\u001b[0m \u001b[38;5;124;03m    :param disable_cache: disable caching of objects\u001b[39;00m\n\u001b[0;32m    109\u001b[0m \u001b[38;5;124;03m    \"\"\"\u001b[39;00m\n\u001b[1;32m--> 111\u001b[0m     session \u001b[38;5;241m=\u001b[39m \u001b[38;5;28;43mself\u001b[39;49m\u001b[38;5;241;43m.\u001b[39;49m\u001b[43m_init_session\u001b[49m\u001b[43m(\u001b[49m\u001b[43memail\u001b[49m\u001b[43m,\u001b[49m\u001b[43m \u001b[49m\u001b[43mtoken\u001b[49m\u001b[43m,\u001b[49m\u001b[43m \u001b[49m\u001b[43moauth_token\u001b[49m\u001b[43m,\u001b[49m\n\u001b[0;32m    112\u001b[0m \u001b[43m                                 \u001b[49m\u001b[43mpassword\u001b[49m\u001b[43m,\u001b[49m\u001b[43m \u001b[49m\u001b[43msession\u001b[49m\u001b[43m,\u001b[49m\u001b[43m \u001b[49m\u001b[43manonymous\u001b[49m\u001b[43m)\u001b[49m\n\u001b[0;32m    114\u001b[0m     timeout \u001b[38;5;241m=\u001b[39m timeout \u001b[38;5;129;01mor\u001b[39;00m \u001b[38;5;28mself\u001b[39m\u001b[38;5;241m.\u001b[39mDEFAULT_TIMEOUT\n\u001b[0;32m    116\u001b[0m     \u001b[38;5;28mself\u001b[39m\u001b[38;5;241m.\u001b[39mcache \u001b[38;5;241m=\u001b[39m ZenpyCacheManager(disable_cache)\n",
      "File \u001b[1;32mc:\\Users\\Robin N\\AppData\\Local\\Programs\\Python\\Python310\\lib\\site-packages\\zenpy\\__init__.py:217\u001b[0m, in \u001b[0;36mZenpy._init_session\u001b[1;34m(self, email, token, oath_token, password, session, anonymous)\u001b[0m\n\u001b[0;32m    212\u001b[0m \u001b[38;5;28;01mif\u001b[39;00m (\u001b[38;5;129;01mnot\u001b[39;00m \u001b[38;5;28mhasattr\u001b[39m(session, \u001b[38;5;124m\"\u001b[39m\u001b[38;5;124mauthorized\u001b[39m\u001b[38;5;124m\"\u001b[39m) \u001b[38;5;129;01mor\u001b[39;00m \u001b[38;5;129;01mnot\u001b[39;00m session\u001b[38;5;241m.\u001b[39mauthorized) \u001b[38;5;129;01mand\u001b[39;00m \\\n\u001b[0;32m    213\u001b[0m         \u001b[38;5;129;01mnot\u001b[39;00m anonymous:\n\u001b[0;32m    214\u001b[0m     \u001b[38;5;66;03m# session is not an OAuth session that has been authorized\u001b[39;00m\n\u001b[0;32m    215\u001b[0m     \u001b[38;5;66;03m# so authorize the session.\u001b[39;00m\n\u001b[0;32m    216\u001b[0m     \u001b[38;5;28;01mif\u001b[39;00m \u001b[38;5;129;01mnot\u001b[39;00m password \u001b[38;5;129;01mand\u001b[39;00m \u001b[38;5;129;01mnot\u001b[39;00m token \u001b[38;5;129;01mand\u001b[39;00m \u001b[38;5;129;01mnot\u001b[39;00m oath_token:\n\u001b[1;32m--> 217\u001b[0m         \u001b[38;5;28;01mraise\u001b[39;00m ZenpyException(\n\u001b[0;32m    218\u001b[0m             \u001b[38;5;124m\"\u001b[39m\u001b[38;5;124mpassword, token or oauth_token are required! \u001b[39m\u001b[38;5;132;01m{}\u001b[39;00m\u001b[38;5;124m\"\u001b[39m\u001b[38;5;241m.\u001b[39mformat(\u001b[38;5;28mlocals\u001b[39m())\n\u001b[0;32m    219\u001b[0m         )\n\u001b[0;32m    220\u001b[0m     \u001b[38;5;28;01melif\u001b[39;00m password \u001b[38;5;129;01mand\u001b[39;00m token:\n\u001b[0;32m    221\u001b[0m         \u001b[38;5;28;01mraise\u001b[39;00m ZenpyException(\u001b[38;5;124m\"\u001b[39m\u001b[38;5;124mPassword and token are mutually exclusive!\u001b[39m\u001b[38;5;124m\"\u001b[39m)\n",
      "\u001b[1;31mZenpyException\u001b[0m: password, token or oauth_token are required! {'self': <zenpy.Zenpy object at 0x0000022218FD1840>, 'email': None, 'token': None, 'oath_token': None, 'password': None, 'session': <requests.sessions.Session object at 0x0000022218FD0250>, 'anonymous': False}"
     ]
    }
   ],
   "source": [
    "# variables\n",
    "from logininformations import zendesk_crendentials, gbq_credentials, gbq_tableId, gbq_projectId\n",
    "file_json_output_filename = \"xyz.json\"\n",
    "\n",
    "# Functions call\n",
    "zenpy_client = zenpyInstance(zendesk_credentials)\n",
    "    \n",
    "# Fetch tickets from Zendesk\n",
    "ticket_dict = fetchTickets(zenpy_client)\n",
    "    \n",
    "# Convert tickets to DataFrame\n",
    "ticket_dict = conersionDict(ticket_dict)\n",
    "ticket_df = conversionDF(ticket_dict)\n",
    "    \n",
    "# Setup Google BigQuery\n",
    "setupGBQ(gbq_credentials, gbq_projectId)\n",
    "    \n",
    "# Load data to BigQuery\n",
    "loadData(ticket_df, gbq_tableId, gbq_projectId)"
   ]
  }
 ],
 "metadata": {
  "kernelspec": {
   "display_name": "Python 3",
   "language": "python",
   "name": "python3"
  },
  "language_info": {
   "codemirror_mode": {
    "name": "ipython",
    "version": 3
   },
   "file_extension": ".py",
   "mimetype": "text/x-python",
   "name": "python",
   "nbconvert_exporter": "python",
   "pygments_lexer": "ipython3",
   "version": "3.10.11"
  }
 },
 "nbformat": 4,
 "nbformat_minor": 2
}
